{
 "cells": [
  {
   "cell_type": "markdown",
   "id": "8eee2b51",
   "metadata": {
    "papermill": {
     "duration": 0.005982,
     "end_time": "2024-09-01T14:14:59.005604",
     "exception": false,
     "start_time": "2024-09-01T14:14:58.999622",
     "status": "completed"
    },
    "tags": []
   },
   "source": [
    "**This notebook is an exercise in the [Introduction to Machine Learning](https://www.kaggle.com/learn/intro-to-machine-learning) course.  You can reference the tutorial at [this link](https://www.kaggle.com/dansbecker/your-first-machine-learning-model).**\n",
    "\n",
    "---\n"
   ]
  },
  {
   "cell_type": "markdown",
   "id": "2e1ca710",
   "metadata": {
    "papermill": {
     "duration": 0.004692,
     "end_time": "2024-09-01T14:14:59.016000",
     "exception": false,
     "start_time": "2024-09-01T14:14:59.011308",
     "status": "completed"
    },
    "tags": []
   },
   "source": [
    "## Recap\n",
    "So far, you have loaded your data and reviewed it with the following code. Run this cell to set up your coding environment where the previous step left off."
   ]
  },
  {
   "cell_type": "code",
   "execution_count": 1,
   "id": "99b9144f",
   "metadata": {
    "execution": {
     "iopub.execute_input": "2024-09-01T14:14:59.028250Z",
     "iopub.status.busy": "2024-09-01T14:14:59.027672Z",
     "iopub.status.idle": "2024-09-01T14:15:01.262403Z",
     "shell.execute_reply": "2024-09-01T14:15:01.261037Z"
    },
    "papermill": {
     "duration": 2.244526,
     "end_time": "2024-09-01T14:15:01.265651",
     "exception": false,
     "start_time": "2024-09-01T14:14:59.021125",
     "status": "completed"
    },
    "tags": []
   },
   "outputs": [
    {
     "name": "stdout",
     "output_type": "stream",
     "text": [
      "Setup Complete\n"
     ]
    }
   ],
   "source": [
    "# Code you have previously used to load data\n",
    "import pandas as pd\n",
    "\n",
    "# Path of the file to read\n",
    "iowa_file_path = '../input/home-data-for-ml-course/train.csv'\n",
    "\n",
    "home_data = pd.read_csv(iowa_file_path)\n",
    "\n",
    "# Set up code checking\n",
    "from learntools.core import binder\n",
    "binder.bind(globals())\n",
    "from learntools.machine_learning.ex3 import *\n",
    "\n",
    "print(\"Setup Complete\")"
   ]
  },
  {
   "cell_type": "markdown",
   "id": "be1ca9f6",
   "metadata": {
    "papermill": {
     "duration": 0.005132,
     "end_time": "2024-09-01T14:15:01.276181",
     "exception": false,
     "start_time": "2024-09-01T14:15:01.271049",
     "status": "completed"
    },
    "tags": []
   },
   "source": [
    "# Exercises\n",
    "\n",
    "## Step 1: Specify Prediction Target\n",
    "Select the target variable, which corresponds to the sales price. Save this to a new variable called `y`. You'll need to print a list of the columns to find the name of the column you need.\n"
   ]
  },
  {
   "cell_type": "code",
   "execution_count": 2,
   "id": "686bcd2e",
   "metadata": {
    "execution": {
     "iopub.execute_input": "2024-09-01T14:15:01.289056Z",
     "iopub.status.busy": "2024-09-01T14:15:01.288514Z",
     "iopub.status.idle": "2024-09-01T14:15:01.296619Z",
     "shell.execute_reply": "2024-09-01T14:15:01.295299Z"
    },
    "papermill": {
     "duration": 0.017795,
     "end_time": "2024-09-01T14:15:01.299275",
     "exception": false,
     "start_time": "2024-09-01T14:15:01.281480",
     "status": "completed"
    },
    "tags": []
   },
   "outputs": [
    {
     "name": "stdout",
     "output_type": "stream",
     "text": [
      "Index(['Id', 'MSSubClass', 'MSZoning', 'LotFrontage', 'LotArea', 'Street',\n",
      "       'Alley', 'LotShape', 'LandContour', 'Utilities', 'LotConfig',\n",
      "       'LandSlope', 'Neighborhood', 'Condition1', 'Condition2', 'BldgType',\n",
      "       'HouseStyle', 'OverallQual', 'OverallCond', 'YearBuilt', 'YearRemodAdd',\n",
      "       'RoofStyle', 'RoofMatl', 'Exterior1st', 'Exterior2nd', 'MasVnrType',\n",
      "       'MasVnrArea', 'ExterQual', 'ExterCond', 'Foundation', 'BsmtQual',\n",
      "       'BsmtCond', 'BsmtExposure', 'BsmtFinType1', 'BsmtFinSF1',\n",
      "       'BsmtFinType2', 'BsmtFinSF2', 'BsmtUnfSF', 'TotalBsmtSF', 'Heating',\n",
      "       'HeatingQC', 'CentralAir', 'Electrical', '1stFlrSF', '2ndFlrSF',\n",
      "       'LowQualFinSF', 'GrLivArea', 'BsmtFullBath', 'BsmtHalfBath', 'FullBath',\n",
      "       'HalfBath', 'BedroomAbvGr', 'KitchenAbvGr', 'KitchenQual',\n",
      "       'TotRmsAbvGrd', 'Functional', 'Fireplaces', 'FireplaceQu', 'GarageType',\n",
      "       'GarageYrBlt', 'GarageFinish', 'GarageCars', 'GarageArea', 'GarageQual',\n",
      "       'GarageCond', 'PavedDrive', 'WoodDeckSF', 'OpenPorchSF',\n",
      "       'EnclosedPorch', '3SsnPorch', 'ScreenPorch', 'PoolArea', 'PoolQC',\n",
      "       'Fence', 'MiscFeature', 'MiscVal', 'MoSold', 'YrSold', 'SaleType',\n",
      "       'SaleCondition', 'SalePrice'],\n",
      "      dtype='object')\n"
     ]
    }
   ],
   "source": [
    "# print the list of columns in the dataset to find the name of the prediction target\n",
    "print(home_data.columns)"
   ]
  },
  {
   "cell_type": "code",
   "execution_count": 3,
   "id": "4f29e78a",
   "metadata": {
    "execution": {
     "iopub.execute_input": "2024-09-01T14:15:01.312243Z",
     "iopub.status.busy": "2024-09-01T14:15:01.310956Z",
     "iopub.status.idle": "2024-09-01T14:15:01.329313Z",
     "shell.execute_reply": "2024-09-01T14:15:01.328214Z"
    },
    "papermill": {
     "duration": 0.027106,
     "end_time": "2024-09-01T14:15:01.331702",
     "exception": false,
     "start_time": "2024-09-01T14:15:01.304596",
     "status": "completed"
    },
    "tags": []
   },
   "outputs": [
    {
     "data": {
      "application/javascript": [
       "parent.postMessage({\"jupyterEvent\": \"custom.exercise_interaction\", \"data\": {\"outcomeType\": 1, \"valueTowardsCompletion\": 0.25, \"interactionType\": 1, \"questionType\": 2, \"questionId\": \"1_SetTarget\", \"learnToolsVersion\": \"0.3.4\", \"failureMessage\": \"\", \"exceptionClass\": \"\", \"trace\": \"\"}}, \"*\")"
      ],
      "text/plain": [
       "<IPython.core.display.Javascript object>"
      ]
     },
     "metadata": {},
     "output_type": "display_data"
    },
    {
     "data": {
      "text/markdown": [
       "<span style=\"color:#33cc33\">Correct</span>"
      ],
      "text/plain": [
       "Correct"
      ]
     },
     "metadata": {},
     "output_type": "display_data"
    }
   ],
   "source": [
    "y = home_data.SalePrice\n",
    "\n",
    "# Check your answer\n",
    "step_1.check()"
   ]
  },
  {
   "cell_type": "code",
   "execution_count": 4,
   "id": "0e2b3f17",
   "metadata": {
    "collapsed": true,
    "execution": {
     "iopub.execute_input": "2024-09-01T14:15:01.344585Z",
     "iopub.status.busy": "2024-09-01T14:15:01.344153Z",
     "iopub.status.idle": "2024-09-01T14:15:01.349177Z",
     "shell.execute_reply": "2024-09-01T14:15:01.347897Z"
    },
    "jupyter": {
     "outputs_hidden": true
    },
    "papermill": {
     "duration": 0.014174,
     "end_time": "2024-09-01T14:15:01.351445",
     "exception": false,
     "start_time": "2024-09-01T14:15:01.337271",
     "status": "completed"
    },
    "tags": []
   },
   "outputs": [],
   "source": [
    "# The lines below will show you a hint or the solution.\n",
    "# step_1.hint() \n",
    "# step_1.solution()"
   ]
  },
  {
   "cell_type": "markdown",
   "id": "26abccdc",
   "metadata": {
    "papermill": {
     "duration": 0.005288,
     "end_time": "2024-09-01T14:15:01.362313",
     "exception": false,
     "start_time": "2024-09-01T14:15:01.357025",
     "status": "completed"
    },
    "tags": []
   },
   "source": [
    "## Step 2: Create X\n",
    "Now you will create a DataFrame called `X` holding the predictive features.\n",
    "\n",
    "Since you want only some columns from the original data, you'll first create a list with the names of the columns you want in `X`.\n",
    "\n",
    "You'll use just the following columns in the list (you can copy and paste the whole list to save some typing, though you'll still need to add quotes):\n",
    "  * LotArea\n",
    "  * YearBuilt\n",
    "  * 1stFlrSF\n",
    "  * 2ndFlrSF\n",
    "  * FullBath\n",
    "  * BedroomAbvGr\n",
    "  * TotRmsAbvGrd\n",
    "\n",
    "After you've created that list of features, use it to create the DataFrame that you'll use to fit the model."
   ]
  },
  {
   "cell_type": "code",
   "execution_count": 5,
   "id": "4ce36b57",
   "metadata": {
    "execution": {
     "iopub.execute_input": "2024-09-01T14:15:01.375955Z",
     "iopub.status.busy": "2024-09-01T14:15:01.375531Z",
     "iopub.status.idle": "2024-09-01T14:15:01.388860Z",
     "shell.execute_reply": "2024-09-01T14:15:01.387792Z"
    },
    "papermill": {
     "duration": 0.023411,
     "end_time": "2024-09-01T14:15:01.391443",
     "exception": false,
     "start_time": "2024-09-01T14:15:01.368032",
     "status": "completed"
    },
    "tags": []
   },
   "outputs": [
    {
     "data": {
      "application/javascript": [
       "parent.postMessage({\"jupyterEvent\": \"custom.exercise_interaction\", \"data\": {\"outcomeType\": 1, \"valueTowardsCompletion\": 0.25, \"interactionType\": 1, \"questionType\": 2, \"questionId\": \"2_SelectPredictionData\", \"learnToolsVersion\": \"0.3.4\", \"failureMessage\": \"\", \"exceptionClass\": \"\", \"trace\": \"\"}}, \"*\")"
      ],
      "text/plain": [
       "<IPython.core.display.Javascript object>"
      ]
     },
     "metadata": {},
     "output_type": "display_data"
    },
    {
     "data": {
      "text/markdown": [
       "<span style=\"color:#33cc33\">Correct</span>"
      ],
      "text/plain": [
       "Correct"
      ]
     },
     "metadata": {},
     "output_type": "display_data"
    }
   ],
   "source": [
    "# Create the list of features below\n",
    "feature_names = [\"LotArea\",\"YearBuilt\",\"1stFlrSF\",\"2ndFlrSF\",\"FullBath\",\"BedroomAbvGr\",\"TotRmsAbvGrd\"]\n",
    "\n",
    "# Select data corresponding to features in feature_names\n",
    "X = home_data[feature_names]\n",
    "\n",
    "# Check your answer\n",
    "step_2.check()"
   ]
  },
  {
   "cell_type": "code",
   "execution_count": 6,
   "id": "0dca30a0",
   "metadata": {
    "collapsed": true,
    "execution": {
     "iopub.execute_input": "2024-09-01T14:15:01.404935Z",
     "iopub.status.busy": "2024-09-01T14:15:01.404553Z",
     "iopub.status.idle": "2024-09-01T14:15:01.409346Z",
     "shell.execute_reply": "2024-09-01T14:15:01.408283Z"
    },
    "jupyter": {
     "outputs_hidden": true
    },
    "papermill": {
     "duration": 0.014371,
     "end_time": "2024-09-01T14:15:01.411728",
     "exception": false,
     "start_time": "2024-09-01T14:15:01.397357",
     "status": "completed"
    },
    "tags": []
   },
   "outputs": [],
   "source": [
    "# step_2.hint()\n",
    "# step_2.solution()"
   ]
  },
  {
   "cell_type": "markdown",
   "id": "9bf52204",
   "metadata": {
    "papermill": {
     "duration": 0.005596,
     "end_time": "2024-09-01T14:15:01.423339",
     "exception": false,
     "start_time": "2024-09-01T14:15:01.417743",
     "status": "completed"
    },
    "tags": []
   },
   "source": [
    "## Review Data\n",
    "Before building a model, take a quick look at **X** to verify it looks sensible"
   ]
  },
  {
   "cell_type": "code",
   "execution_count": 7,
   "id": "4256b892",
   "metadata": {
    "execution": {
     "iopub.execute_input": "2024-09-01T14:15:01.436373Z",
     "iopub.status.busy": "2024-09-01T14:15:01.435946Z",
     "iopub.status.idle": "2024-09-01T14:15:01.471744Z",
     "shell.execute_reply": "2024-09-01T14:15:01.470500Z"
    },
    "papermill": {
     "duration": 0.045438,
     "end_time": "2024-09-01T14:15:01.474504",
     "exception": false,
     "start_time": "2024-09-01T14:15:01.429066",
     "status": "completed"
    },
    "tags": []
   },
   "outputs": [
    {
     "name": "stdout",
     "output_type": "stream",
     "text": [
      "             LotArea    YearBuilt     1stFlrSF     2ndFlrSF     FullBath  \\\n",
      "count    1460.000000  1460.000000  1460.000000  1460.000000  1460.000000   \n",
      "mean    10516.828082  1971.267808  1162.626712   346.992466     1.565068   \n",
      "std      9981.264932    30.202904   386.587738   436.528436     0.550916   \n",
      "min      1300.000000  1872.000000   334.000000     0.000000     0.000000   \n",
      "25%      7553.500000  1954.000000   882.000000     0.000000     1.000000   \n",
      "50%      9478.500000  1973.000000  1087.000000     0.000000     2.000000   \n",
      "75%     11601.500000  2000.000000  1391.250000   728.000000     2.000000   \n",
      "max    215245.000000  2010.000000  4692.000000  2065.000000     3.000000   \n",
      "\n",
      "       BedroomAbvGr  TotRmsAbvGrd  \n",
      "count   1460.000000   1460.000000  \n",
      "mean       2.866438      6.517808  \n",
      "std        0.815778      1.625393  \n",
      "min        0.000000      2.000000  \n",
      "25%        2.000000      5.000000  \n",
      "50%        3.000000      6.000000  \n",
      "75%        3.000000      7.000000  \n",
      "max        8.000000     14.000000  \n",
      "   LotArea  YearBuilt  1stFlrSF  2ndFlrSF  FullBath  BedroomAbvGr  \\\n",
      "0     8450       2003       856       854         2             3   \n",
      "1     9600       1976      1262         0         2             3   \n",
      "2    11250       2001       920       866         2             3   \n",
      "3     9550       1915       961       756         1             3   \n",
      "4    14260       2000      1145      1053         2             4   \n",
      "\n",
      "   TotRmsAbvGrd  \n",
      "0             8  \n",
      "1             6  \n",
      "2             6  \n",
      "3             7  \n",
      "4             9  \n"
     ]
    }
   ],
   "source": [
    "# Review data\n",
    "# print description or statistics from X\n",
    "print(X.describe())\n",
    "\n",
    "# print the top few lines\n",
    "print(X.head())"
   ]
  },
  {
   "cell_type": "markdown",
   "id": "427836cd",
   "metadata": {
    "papermill": {
     "duration": 0.00579,
     "end_time": "2024-09-01T14:15:01.486423",
     "exception": false,
     "start_time": "2024-09-01T14:15:01.480633",
     "status": "completed"
    },
    "tags": []
   },
   "source": [
    "## Step 3: Specify and Fit Model\n",
    "Create a `DecisionTreeRegressor` and save it iowa_model. Ensure you've done the relevant import from sklearn to run this command.\n",
    "\n",
    "Then fit the model you just created using the data in `X` and `y` that you saved above."
   ]
  },
  {
   "cell_type": "code",
   "execution_count": 8,
   "id": "d87047d1",
   "metadata": {
    "execution": {
     "iopub.execute_input": "2024-09-01T14:15:01.500054Z",
     "iopub.status.busy": "2024-09-01T14:15:01.499655Z",
     "iopub.status.idle": "2024-09-01T14:15:01.522005Z",
     "shell.execute_reply": "2024-09-01T14:15:01.520819Z"
    },
    "papermill": {
     "duration": 0.032408,
     "end_time": "2024-09-01T14:15:01.524717",
     "exception": false,
     "start_time": "2024-09-01T14:15:01.492309",
     "status": "completed"
    },
    "tags": []
   },
   "outputs": [
    {
     "data": {
      "application/javascript": [
       "parent.postMessage({\"jupyterEvent\": \"custom.exercise_interaction\", \"data\": {\"outcomeType\": 1, \"valueTowardsCompletion\": 0.25, \"interactionType\": 1, \"questionType\": 2, \"questionId\": \"3_CreateModel\", \"learnToolsVersion\": \"0.3.4\", \"failureMessage\": \"\", \"exceptionClass\": \"\", \"trace\": \"\"}}, \"*\")"
      ],
      "text/plain": [
       "<IPython.core.display.Javascript object>"
      ]
     },
     "metadata": {},
     "output_type": "display_data"
    },
    {
     "data": {
      "text/markdown": [
       "<span style=\"color:#33cc33\">Correct</span>"
      ],
      "text/plain": [
       "Correct"
      ]
     },
     "metadata": {},
     "output_type": "display_data"
    }
   ],
   "source": [
    "from sklearn.tree import DecisionTreeRegressor\n",
    "#specify the model. \n",
    "#For model reproducibility, set a numeric value for random_state when specifying the model\n",
    "iowa_model = DecisionTreeRegressor(random_state = 42)\n",
    "\n",
    "# Fit the model\n",
    "iowa_model.fit(X,y)\n",
    "\n",
    "# Check your answer\n",
    "step_3.check()"
   ]
  },
  {
   "cell_type": "code",
   "execution_count": 9,
   "id": "a7d88829",
   "metadata": {
    "collapsed": true,
    "execution": {
     "iopub.execute_input": "2024-09-01T14:15:01.539109Z",
     "iopub.status.busy": "2024-09-01T14:15:01.538672Z",
     "iopub.status.idle": "2024-09-01T14:15:01.543634Z",
     "shell.execute_reply": "2024-09-01T14:15:01.542404Z"
    },
    "jupyter": {
     "outputs_hidden": true
    },
    "papermill": {
     "duration": 0.015236,
     "end_time": "2024-09-01T14:15:01.546287",
     "exception": false,
     "start_time": "2024-09-01T14:15:01.531051",
     "status": "completed"
    },
    "tags": []
   },
   "outputs": [],
   "source": [
    "# step_3.hint()\n",
    "# step_3.solution()"
   ]
  },
  {
   "cell_type": "markdown",
   "id": "ec0ab295",
   "metadata": {
    "papermill": {
     "duration": 0.006027,
     "end_time": "2024-09-01T14:15:01.558749",
     "exception": false,
     "start_time": "2024-09-01T14:15:01.552722",
     "status": "completed"
    },
    "tags": []
   },
   "source": [
    "## Step 4: Make Predictions\n",
    "Make predictions with the model's `predict` command using `X` as the data. Save the results to a variable called `predictions`."
   ]
  },
  {
   "cell_type": "code",
   "execution_count": 10,
   "id": "be84f790",
   "metadata": {
    "execution": {
     "iopub.execute_input": "2024-09-01T14:15:01.573335Z",
     "iopub.status.busy": "2024-09-01T14:15:01.572895Z",
     "iopub.status.idle": "2024-09-01T14:15:01.586446Z",
     "shell.execute_reply": "2024-09-01T14:15:01.585418Z"
    },
    "papermill": {
     "duration": 0.023338,
     "end_time": "2024-09-01T14:15:01.588813",
     "exception": false,
     "start_time": "2024-09-01T14:15:01.565475",
     "status": "completed"
    },
    "tags": []
   },
   "outputs": [
    {
     "name": "stdout",
     "output_type": "stream",
     "text": [
      "[208500. 181500. 223500. ... 266500. 142125. 147500.]\n"
     ]
    },
    {
     "data": {
      "application/javascript": [
       "parent.postMessage({\"jupyterEvent\": \"custom.exercise_interaction\", \"data\": {\"outcomeType\": 1, \"valueTowardsCompletion\": 0.25, \"interactionType\": 1, \"questionType\": 2, \"questionId\": \"4_MakePredictions\", \"learnToolsVersion\": \"0.3.4\", \"failureMessage\": \"\", \"exceptionClass\": \"\", \"trace\": \"\"}}, \"*\")"
      ],
      "text/plain": [
       "<IPython.core.display.Javascript object>"
      ]
     },
     "metadata": {},
     "output_type": "display_data"
    },
    {
     "data": {
      "text/markdown": [
       "<span style=\"color:#33cc33\">Correct</span>"
      ],
      "text/plain": [
       "Correct"
      ]
     },
     "metadata": {},
     "output_type": "display_data"
    }
   ],
   "source": [
    "predictions = iowa_model.predict(X)\n",
    "print(predictions)\n",
    "\n",
    "# Check your answer\n",
    "step_4.check()"
   ]
  },
  {
   "cell_type": "code",
   "execution_count": 11,
   "id": "a9446011",
   "metadata": {
    "collapsed": true,
    "execution": {
     "iopub.execute_input": "2024-09-01T14:15:01.603741Z",
     "iopub.status.busy": "2024-09-01T14:15:01.603295Z",
     "iopub.status.idle": "2024-09-01T14:15:01.608181Z",
     "shell.execute_reply": "2024-09-01T14:15:01.606851Z"
    },
    "jupyter": {
     "outputs_hidden": true
    },
    "papermill": {
     "duration": 0.015303,
     "end_time": "2024-09-01T14:15:01.610735",
     "exception": false,
     "start_time": "2024-09-01T14:15:01.595432",
     "status": "completed"
    },
    "tags": []
   },
   "outputs": [],
   "source": [
    "# step_4.hint()\n",
    "# step_4.solution()"
   ]
  },
  {
   "cell_type": "markdown",
   "id": "c0082f92",
   "metadata": {
    "papermill": {
     "duration": 0.006731,
     "end_time": "2024-09-01T14:15:01.624695",
     "exception": false,
     "start_time": "2024-09-01T14:15:01.617964",
     "status": "completed"
    },
    "tags": []
   },
   "source": [
    "## Think About Your Results\n",
    "\n",
    "Use the `head` method to compare the top few predictions to the actual home values (in `y`) for those same homes. Anything surprising?\n"
   ]
  },
  {
   "cell_type": "code",
   "execution_count": 12,
   "id": "6a600fde",
   "metadata": {
    "execution": {
     "iopub.execute_input": "2024-09-01T14:15:01.639954Z",
     "iopub.status.busy": "2024-09-01T14:15:01.639547Z",
     "iopub.status.idle": "2024-09-01T14:15:01.647447Z",
     "shell.execute_reply": "2024-09-01T14:15:01.646318Z"
    },
    "papermill": {
     "duration": 0.018415,
     "end_time": "2024-09-01T14:15:01.649708",
     "exception": false,
     "start_time": "2024-09-01T14:15:01.631293",
     "status": "completed"
    },
    "tags": []
   },
   "outputs": [
    {
     "name": "stdout",
     "output_type": "stream",
     "text": [
      "[208500. 181500. 223500. 140000. 250000.]\n"
     ]
    }
   ],
   "source": [
    "# You can write code in this cell\n",
    "print(iowa_model.predict(X.head()))"
   ]
  },
  {
   "cell_type": "markdown",
   "id": "8754d5c2",
   "metadata": {
    "papermill": {
     "duration": 0.007014,
     "end_time": "2024-09-01T14:15:01.664261",
     "exception": false,
     "start_time": "2024-09-01T14:15:01.657247",
     "status": "completed"
    },
    "tags": []
   },
   "source": [
    "It's natural to ask how accurate the model's predictions will be and how you can improve that. That will be you're next step.\n",
    "\n",
    "# Keep Going\n",
    "\n",
    "You are ready for **[Model Validation](https://www.kaggle.com/dansbecker/model-validation).**\n"
   ]
  },
  {
   "cell_type": "markdown",
   "id": "e8c1b614",
   "metadata": {
    "papermill": {
     "duration": 0.006347,
     "end_time": "2024-09-01T14:15:01.677276",
     "exception": false,
     "start_time": "2024-09-01T14:15:01.670929",
     "status": "completed"
    },
    "tags": []
   },
   "source": [
    "---\n",
    "\n",
    "\n",
    "\n",
    "\n",
    "*Have questions or comments? Visit the [course discussion forum](https://www.kaggle.com/learn/intro-to-machine-learning/discussion) to chat with other learners.*"
   ]
  }
 ],
 "metadata": {
  "kaggle": {
   "accelerator": "none",
   "dataSources": [
    {
     "databundleVersionId": 111096,
     "sourceId": 10211,
     "sourceType": "competition"
    },
    {
     "datasetId": 11167,
     "sourceId": 15520,
     "sourceType": "datasetVersion"
    },
    {
     "datasetId": 2709,
     "sourceId": 38454,
     "sourceType": "datasetVersion"
    }
   ],
   "isGpuEnabled": false,
   "isInternetEnabled": false,
   "language": "python",
   "sourceType": "notebook"
  },
  "kernelspec": {
   "display_name": "Python 3",
   "language": "python",
   "name": "python3"
  },
  "language_info": {
   "codemirror_mode": {
    "name": "ipython",
    "version": 3
   },
   "file_extension": ".py",
   "mimetype": "text/x-python",
   "name": "python",
   "nbconvert_exporter": "python",
   "pygments_lexer": "ipython3",
   "version": "3.10.14"
  },
  "papermill": {
   "default_parameters": {},
   "duration": 6.171878,
   "end_time": "2024-09-01T14:15:02.306610",
   "environment_variables": {},
   "exception": null,
   "input_path": "__notebook__.ipynb",
   "output_path": "__notebook__.ipynb",
   "parameters": {},
   "start_time": "2024-09-01T14:14:56.134732",
   "version": "2.6.0"
  }
 },
 "nbformat": 4,
 "nbformat_minor": 5
}
